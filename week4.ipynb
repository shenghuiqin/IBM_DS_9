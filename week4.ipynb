{
 "cells": [
  {
   "cell_type": "markdown",
   "metadata": {},
   "source": [
    "<!DOCTYPE html>\n",
    "<html>\n",
    "<body>\n",
    "\n",
    "<h1 style=\"text-align:center\">Location selection for new business in Manhattan and Brooklyn</h1>\n",
    "<img src=\"./manhattan.jpg\">\n",
    "<p><h2>1 Introduction</h2></p>\n",
    "<p><h3>1.1 Description and a discussion of the background.</h3></p>\n",
    "<p><h4>1.1.1 Background</h4></p>\n",
    "<p>Manhattan, often referred to by residents of the New York City area as the City, is the most densely populated of the five boroughs of New York City, and coextensive with the County of New York, one of the original counties of the U.S. state of New York. Manhattan serves as the city's economic and administrative center, cultural identifier, and historical birthplace. The borough consists mostly of Manhattan Island, bounded by the Hudson, East, and Harlem rivers; as well as several small adjacent islands. \n",
    "Brooklyn is also a borough of New York City, coterminous with Kings County, located in the U.S. state of New York. It is the most populous county in the state, the second-most densely populated county in the United States,3 and New York City's most populous borough, with an estimated 2,648,403 residents in 2020.\n",
    "\n",
    "Although there are numerous restaurants spread in the two boroughs, there are new ones opening all the time. Therefore to analyze locations, types, and the number of these restaurants is a plus for those who want to open a new restaurant in the city[1].</p>\n",
    "<p><h4>1.1.2 Problem Description</h4></p>\n",
    "<p> Searching an optimal location to start a new business in the two boroughs can be challenging. One could think that the better location for it should be at a place where there is less competetion. But the problem is that perhaps most of the interested customers instead of going to an isolated neighborhood, prefer to go to a popular neighborhood, where there are more options and there is movement of people. While the concurrence will be big in these regions, the flux of interested customers in this specific region will be relevant as well. Many people, for example, go on the weekends to a specific restaurant and when they arrive, there is a large line waiting for them. This usually happens because it is also a new trend, in some popular restaurants, not to have an option to make a reservation. The good news is that perhaps some of the customers, those who do not want to wait too long in line, might want to search for similar options in the neighborhood. \n",
    "\n",
    "[1] \"New York City\". TravelPulse. July 26, 2018. Archived from the original on May 8, 2020. Retrieved May 11, 2020. \n",
    "</p>\n",
    "</body>\n",
    "</html>\n"
   ]
  },
  {
   "cell_type": "markdown",
   "metadata": {},
   "source": [
    "<!DOCTYPE html>\n",
    "<html>\n",
    "<body>\n",
    "\n",
    "<p><h2>2. Data acquisition</h2></p>\n",
    "<p><h3>2.1 Data source</h3></p>\n",
    "\n",
    "<p>\n",
    "To consider the problem we can list the datas as below:\n",
    "<dl>\n",
    "  <dt>Spatial Data Repository of NYU [2].from Spatial Data Repository of NYU, I cleaned the data and use it to create choropleth map.</dt>\n",
    "  <dd>- 1.\t2010 Median Age in Manhattan and Brooklyn</dd>\n",
    "  <dd>- 2.\t2010 Housing Characteristics in Manhattan and Brooklyn</dd>\n",
    "  <dd>- 2010 New York City Boroughs</dd>\n",
    "  <dt>Foursquare API to select the number of restaurants and their location in some neighborhoods of NYC[3].</dt>\n",
    "</dl>\n",
    "<br>\n",
    "[2] NYC Spatial Data repository. https://geo.nyu.edu/catalog?f%5Bdct_spatial_sm%5D%5B%5D=New+York%2C+New+York%2C+United+States&bbox=-74.558716%2040.195659%20-73.399658%2041.19519<br>\n",
    "[3] Forsquare API  https://developer.foursquare.com/\n",
    "\n",
    "</p>\n",
    "<p><h3>2.2 Feature selection</h3></p>\n",
    "<p>\n",
    "I will first create a dataset thought the Foursquare API, exploring several types of venues, such as ID, name, category (restaurant), latitude, longitude, neighborhood, and distance (in meters) to Manhattan and Brooklyn, NYC, where both are very famous to have various restaurants.<br>\n",
    "\n",
    "I will save the data collected using Foursquare API to a CSV file and then read them with Pandas.<br>\n",
    "\n",
    "Then, I will create another dataset that has information about places with densest population in NYC. First, I will create the features \"pop_density\" and \"housing\" of these places and then with the help of json files, I will get the latitude, longitude features. Then, I will save to a file CSV and read it with Pandas.<br>\n",
    "\n",
    "</p>\n",
    "</body>\n",
    "</html>\n"
   ]
  }
 ],
 "metadata": {
  "language_info": {
   "codemirror_mode": {
    "name": "ipython",
    "version": 3
   },
   "file_extension": ".py",
   "mimetype": "text/x-python",
   "name": "python",
   "nbconvert_exporter": "python",
   "pygments_lexer": "ipython3",
   "version": "3.7.6-final"
  },
  "orig_nbformat": 2,
  "kernelspec": {
   "name": "python37364bitspamcondace8c0a904c654835b0bee7c13b9e1c77",
   "display_name": "Python 3.7.3 64-bit ('spam': conda)"
  }
 },
 "nbformat": 4,
 "nbformat_minor": 2
}